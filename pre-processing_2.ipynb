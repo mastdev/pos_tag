{
 "cells": [
  {
   "cell_type": "code",
   "execution_count": 1,
   "metadata": {},
   "outputs": [],
   "source": [
    "import os\n",
    "import pandas as pd\n",
    "import xml.etree.ElementTree as ET"
   ]
  },
  {
   "cell_type": "code",
   "execution_count": 51,
   "metadata": {},
   "outputs": [],
   "source": [
    "train_dir='C:/Users/LENOVO/Desktop/POS-tagger/Assignment-files/Train-corpus'\n",
    "\n",
    "sentn=[]\n",
    "s=\"\"\n",
    "\n",
    "for _dir, subdir, files in os.walk(train_dir):\n",
    "    for files in files:\n",
    "        tree=ET.parse(os.path.join(os.path.abspath(_dir),files))\n",
    "        root=tree.getroot()\n",
    "        for ele in root.findall('.//'):\n",
    "            if(ele.tag=='s'):\n",
    "                sentn.append(s)\n",
    "                s=\"\"\n",
    "            if(ele.tag=='w' or ele.tag=='c'):\n",
    "                s+=str(ele.text)[:-1]+'_'+ele.attrib['c5']+' '\n",
    "sentn.append(s)\n",
    "pd.DataFrame(sentn[1:]).to_csv('train words_tag_2.csv')"
   ]
  },
  {
   "cell_type": "code",
   "execution_count": 52,
   "metadata": {},
   "outputs": [],
   "source": [
    "df= pd.read_csv('train words_tag_2.csv')"
   ]
  },
  {
   "cell_type": "code",
   "execution_count": 53,
   "metadata": {},
   "outputs": [
    {
     "data": {
      "text/html": [
       "<div>\n",
       "<style scoped>\n",
       "    .dataframe tbody tr th:only-of-type {\n",
       "        vertical-align: middle;\n",
       "    }\n",
       "\n",
       "    .dataframe tbody tr th {\n",
       "        vertical-align: top;\n",
       "    }\n",
       "\n",
       "    .dataframe thead th {\n",
       "        text-align: right;\n",
       "    }\n",
       "</style>\n",
       "<table border=\"1\" class=\"dataframe\">\n",
       "  <thead>\n",
       "    <tr style=\"text-align: right;\">\n",
       "      <th></th>\n",
       "      <th>Unnamed: 0</th>\n",
       "      <th>0</th>\n",
       "    </tr>\n",
       "  </thead>\n",
       "  <tbody>\n",
       "    <tr>\n",
       "      <td>0</td>\n",
       "      <td>0</td>\n",
       "      <td>NEWS_NN1 IN_PRP FOCU_NN1</td>\n",
       "    </tr>\n",
       "    <tr>\n",
       "      <td>1</td>\n",
       "      <td>1</td>\n",
       "      <td>Published_VVN by_PRP Age_NN1 Concern_NN1-VVB E...</td>\n",
       "    </tr>\n",
       "    <tr>\n",
       "      <td>2</td>\n",
       "      <td>2</td>\n",
       "      <td>Edito_NN1 :_PUN Elspeth_NP0 Rodwell_NP0 Octobe...</td>\n",
       "    </tr>\n",
       "    <tr>\n",
       "      <td>3</td>\n",
       "      <td>3</td>\n",
       "      <td>This_DT0 month_NN1 in_PRP the_AT0 News_NN1 in_...</td>\n",
       "    </tr>\n",
       "    <tr>\n",
       "      <td>4</td>\n",
       "      <td>4</td>\n",
       "      <td>We_PNP have_VHB reviewed_VVN our_DPS corporate...</td>\n",
       "    </tr>\n",
       "  </tbody>\n",
       "</table>\n",
       "</div>"
      ],
      "text/plain": [
       "   Unnamed: 0                                                  0\n",
       "0           0                          NEWS_NN1 IN_PRP FOCU_NN1 \n",
       "1           1  Published_VVN by_PRP Age_NN1 Concern_NN1-VVB E...\n",
       "2           2  Edito_NN1 :_PUN Elspeth_NP0 Rodwell_NP0 Octobe...\n",
       "3           3  This_DT0 month_NN1 in_PRP the_AT0 News_NN1 in_...\n",
       "4           4  We_PNP have_VHB reviewed_VVN our_DPS corporate..."
      ]
     },
     "execution_count": 53,
     "metadata": {},
     "output_type": "execute_result"
    }
   ],
   "source": [
    "df.head()"
   ]
  },
  {
   "cell_type": "code",
   "execution_count": 54,
   "metadata": {},
   "outputs": [
    {
     "data": {
      "text/html": [
       "<div>\n",
       "<style scoped>\n",
       "    .dataframe tbody tr th:only-of-type {\n",
       "        vertical-align: middle;\n",
       "    }\n",
       "\n",
       "    .dataframe tbody tr th {\n",
       "        vertical-align: top;\n",
       "    }\n",
       "\n",
       "    .dataframe thead th {\n",
       "        text-align: right;\n",
       "    }\n",
       "</style>\n",
       "<table border=\"1\" class=\"dataframe\">\n",
       "  <thead>\n",
       "    <tr style=\"text-align: right;\">\n",
       "      <th></th>\n",
       "      <th>Unnamed: 0</th>\n",
       "      <th>0</th>\n",
       "    </tr>\n",
       "  </thead>\n",
       "  <tbody>\n",
       "    <tr>\n",
       "      <td>483624</td>\n",
       "      <td>483624</td>\n",
       "      <td>The_AT0 chalk_NN1 pit_NN1-VVB itself_PNX is_VB...</td>\n",
       "    </tr>\n",
       "    <tr>\n",
       "      <td>483625</td>\n",
       "      <td>483625</td>\n",
       "      <td>Nigel_NP0 and_CJC I_PNP wer_VBD ,_PUN above_PR...</td>\n",
       "    </tr>\n",
       "    <tr>\n",
       "      <td>483626</td>\n",
       "      <td>483626</td>\n",
       "      <td>Altogether_AV0 we_PNP recorded_VVD 202_CRD dif...</td>\n",
       "    </tr>\n",
       "    <tr>\n",
       "      <td>483627</td>\n",
       "      <td>483627</td>\n",
       "      <td>Thank_VVB you_PNP for_PRP inviting_VVG us_PNP ...</td>\n",
       "    </tr>\n",
       "    <tr>\n",
       "      <td>483628</td>\n",
       "      <td>483628</td>\n",
       "      <td>Vera_NP0 N._NP0 Pau_NP0 ,_PUN O.B.E_NP0</td>\n",
       "    </tr>\n",
       "  </tbody>\n",
       "</table>\n",
       "</div>"
      ],
      "text/plain": [
       "        Unnamed: 0                                                  0\n",
       "483624      483624  The_AT0 chalk_NN1 pit_NN1-VVB itself_PNX is_VB...\n",
       "483625      483625  Nigel_NP0 and_CJC I_PNP wer_VBD ,_PUN above_PR...\n",
       "483626      483626  Altogether_AV0 we_PNP recorded_VVD 202_CRD dif...\n",
       "483627      483627  Thank_VVB you_PNP for_PRP inviting_VVG us_PNP ...\n",
       "483628      483628           Vera_NP0 N._NP0 Pau_NP0 ,_PUN O.B.E_NP0 "
      ]
     },
     "execution_count": 54,
     "metadata": {},
     "output_type": "execute_result"
    }
   ],
   "source": [
    "df.tail()"
   ]
  },
  {
   "cell_type": "code",
   "execution_count": null,
   "metadata": {},
   "outputs": [],
   "source": []
  },
  {
   "cell_type": "code",
   "execution_count": null,
   "metadata": {},
   "outputs": [],
   "source": []
  },
  {
   "cell_type": "code",
   "execution_count": 47,
   "metadata": {},
   "outputs": [],
   "source": [
    "train_dir='C:/Users/LENOVO/Desktop/POS-tagger/Assignment-files/Test-corpus'\n",
    "\n",
    "sentn=[]\n",
    "s=\"\"\n",
    "\n",
    "for _dir, subdir, files in os.walk(train_dir):\n",
    "    for files in files:\n",
    "        tree=ET.parse(os.path.join(os.path.abspath(_dir),files))\n",
    "        root=tree.getroot()\n",
    "        for ele in root.findall('.//'):\n",
    "            if(ele.tag=='s'):\n",
    "                sentn.append(s)\n",
    "                s=\"\"\n",
    "            if(ele.tag=='w' or ele.tag=='c'):\n",
    "                s+=str(ele.text)[:-1]+'_'+ele.attrib['c5']+' '\n",
    "sentn.append(s)\n",
    "pd.DataFrame(sentn[1:]).to_csv('test words_tag_2.csv')"
   ]
  },
  {
   "cell_type": "code",
   "execution_count": 48,
   "metadata": {},
   "outputs": [],
   "source": [
    "df= pd.read_csv('test words_tag_2.csv')"
   ]
  },
  {
   "cell_type": "code",
   "execution_count": 49,
   "metadata": {},
   "outputs": [
    {
     "data": {
      "text/html": [
       "<div>\n",
       "<style scoped>\n",
       "    .dataframe tbody tr th:only-of-type {\n",
       "        vertical-align: middle;\n",
       "    }\n",
       "\n",
       "    .dataframe tbody tr th {\n",
       "        vertical-align: top;\n",
       "    }\n",
       "\n",
       "    .dataframe thead th {\n",
       "        text-align: right;\n",
       "    }\n",
       "</style>\n",
       "<table border=\"1\" class=\"dataframe\">\n",
       "  <thead>\n",
       "    <tr style=\"text-align: right;\">\n",
       "      <th></th>\n",
       "      <th>Unnamed: 0</th>\n",
       "      <th>0</th>\n",
       "    </tr>\n",
       "  </thead>\n",
       "  <tbody>\n",
       "    <tr>\n",
       "      <td>0</td>\n",
       "      <td>0</td>\n",
       "      <td>THE_AT0 PLAYER_NN2</td>\n",
       "    </tr>\n",
       "    <tr>\n",
       "      <td>1</td>\n",
       "      <td>1</td>\n",
       "      <td>Virtually_AV0 every_AT0 country_NN1 in_PRP the...</td>\n",
       "    </tr>\n",
       "    <tr>\n",
       "      <td>2</td>\n",
       "      <td>2</td>\n",
       "      <td>Most_DT0 have_VHB at_PRP least_AV0 tw_CRD ,_PU...</td>\n",
       "    </tr>\n",
       "    <tr>\n",
       "      <td>3</td>\n",
       "      <td>3</td>\n",
       "      <td>In_PRP addition_NN1 there_EX0 are_VBB often_AV...</td>\n",
       "    </tr>\n",
       "    <tr>\n",
       "      <td>4</td>\n",
       "      <td>4</td>\n",
       "      <td>The_AT0 general_AJ0-NN1 rule_NN1 is_VBZ that_C...</td>\n",
       "    </tr>\n",
       "  </tbody>\n",
       "</table>\n",
       "</div>"
      ],
      "text/plain": [
       "   Unnamed: 0                                                  0\n",
       "0           0                                THE_AT0 PLAYER_NN2 \n",
       "1           1  Virtually_AV0 every_AT0 country_NN1 in_PRP the...\n",
       "2           2  Most_DT0 have_VHB at_PRP least_AV0 tw_CRD ,_PU...\n",
       "3           3  In_PRP addition_NN1 there_EX0 are_VBB often_AV...\n",
       "4           4  The_AT0 general_AJ0-NN1 rule_NN1 is_VBZ that_C..."
      ]
     },
     "execution_count": 49,
     "metadata": {},
     "output_type": "execute_result"
    }
   ],
   "source": [
    "df.head()"
   ]
  },
  {
   "cell_type": "code",
   "execution_count": 50,
   "metadata": {},
   "outputs": [
    {
     "data": {
      "text/html": [
       "<div>\n",
       "<style scoped>\n",
       "    .dataframe tbody tr th:only-of-type {\n",
       "        vertical-align: middle;\n",
       "    }\n",
       "\n",
       "    .dataframe tbody tr th {\n",
       "        vertical-align: top;\n",
       "    }\n",
       "\n",
       "    .dataframe thead th {\n",
       "        text-align: right;\n",
       "    }\n",
       "</style>\n",
       "<table border=\"1\" class=\"dataframe\">\n",
       "  <thead>\n",
       "    <tr style=\"text-align: right;\">\n",
       "      <th></th>\n",
       "      <th>Unnamed: 0</th>\n",
       "      <th>0</th>\n",
       "    </tr>\n",
       "  </thead>\n",
       "  <tbody>\n",
       "    <tr>\n",
       "      <td>200463</td>\n",
       "      <td>200463</td>\n",
       "      <td>Indee_AV0 ,_PUN _PUQ A_ZZ0 Guide_VVB-NN1 to_PR...</td>\n",
       "    </tr>\n",
       "    <tr>\n",
       "      <td>200464</td>\n",
       "      <td>200464</td>\n",
       "      <td>For_PRP your_DPS free_AJ0 cop_NN1 ,_PUN simply...</td>\n",
       "    </tr>\n",
       "    <tr>\n",
       "      <td>200465</td>\n",
       "      <td>200465</td>\n",
       "      <td>If_CJS yo_PNP 'd_VM0 like_VVI details_NN2 of_P...</td>\n",
       "    </tr>\n",
       "    <tr>\n",
       "      <td>200466</td>\n",
       "      <td>200466</td>\n",
       "      <td>Then_AV0 yo_PNP 'll_VM0 see_VVI how_AVQ we_PNP...</td>\n",
       "    </tr>\n",
       "    <tr>\n",
       "      <td>200467</td>\n",
       "      <td>200467</td>\n",
       "      <td>Yours_PNP sincerel_AV0 ,_PUN Philip_NP0 Mounse...</td>\n",
       "    </tr>\n",
       "  </tbody>\n",
       "</table>\n",
       "</div>"
      ],
      "text/plain": [
       "        Unnamed: 0                                                  0\n",
       "200463      200463  Indee_AV0 ,_PUN _PUQ A_ZZ0 Guide_VVB-NN1 to_PR...\n",
       "200464      200464  For_PRP your_DPS free_AJ0 cop_NN1 ,_PUN simply...\n",
       "200465      200465  If_CJS yo_PNP 'd_VM0 like_VVI details_NN2 of_P...\n",
       "200466      200466  Then_AV0 yo_PNP 'll_VM0 see_VVI how_AVQ we_PNP...\n",
       "200467      200467  Yours_PNP sincerel_AV0 ,_PUN Philip_NP0 Mounse..."
      ]
     },
     "execution_count": 50,
     "metadata": {},
     "output_type": "execute_result"
    }
   ],
   "source": [
    "df.tail()"
   ]
  },
  {
   "cell_type": "code",
   "execution_count": null,
   "metadata": {},
   "outputs": [],
   "source": []
  },
  {
   "cell_type": "code",
   "execution_count": null,
   "metadata": {},
   "outputs": [],
   "source": []
  }
 ],
 "metadata": {
  "kernelspec": {
   "display_name": "Python 3",
   "language": "python",
   "name": "python3"
  },
  "language_info": {
   "codemirror_mode": {
    "name": "ipython",
    "version": 3
   },
   "file_extension": ".py",
   "mimetype": "text/x-python",
   "name": "python",
   "nbconvert_exporter": "python",
   "pygments_lexer": "ipython3",
   "version": "3.7.4"
  }
 },
 "nbformat": 4,
 "nbformat_minor": 2
}
