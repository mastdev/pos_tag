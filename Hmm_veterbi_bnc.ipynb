{
  "nbformat": 4,
  "nbformat_minor": 0,
  "metadata": {
    "colab": {
      "name": "Running_session.ipynb",
      "provenance": [],
      "collapsed_sections": [],
      "authorship_tag": "ABX9TyO7UIRWZZcbfTNWaoJcRCkB"
    },
    "kernelspec": {
      "name": "python3",
      "display_name": "Python 3"
    },
    "accelerator": "GPU"
  },
  "cells": [
    {
      "cell_type": "code",
      "metadata": {
        "colab": {
          "base_uri": "https://localhost:8080/"
        },
        "id": "Ix5T1_utZbQH",
        "outputId": "3ec18775-8028-49dd-8bf8-d2eed04020ff"
      },
      "source": [
        "from google.colab import drive\n",
        "drive.mount('/content/drive')\n"
      ],
      "execution_count": 2,
      "outputs": [
        {
          "output_type": "stream",
          "text": [
            "Mounted at /content/drive\n"
          ],
          "name": "stdout"
        }
      ]
    },
    {
      "cell_type": "code",
      "metadata": {
        "id": "vPvas13KkpRX"
      },
      "source": [
        "from collections import defaultdict\n",
        "import os\n",
        "import xml.etree.ElementTree as et\n",
        "import pandas as pd\n"
      ],
      "execution_count": 3,
      "outputs": []
    },
    {
      "cell_type": "markdown",
      "metadata": {
        "id": "wdMfvV22aX5J"
      },
      "source": [
        "Pre Processing\n"
      ]
    },
    {
      "cell_type": "code",
      "metadata": {
        "id": "4_iW8cwgatMH"
      },
      "source": [
        "path='/content/drive/My Drive/Ai_project_hmm/Train-corpus'\n",
        "transition_matrix = defaultdict(dict)\n",
        "probability_matrix = defaultdict(dict)\n",
        "initial_matrix = defaultdict(dict)\n",
        "different_tags = []\n",
        "different_words = {}\n",
        "new_word = \"#un#\"\n",
        "cardinal_word = \"#un1#\""
      ],
      "execution_count": 4,
      "outputs": []
    },
    {
      "cell_type": "code",
      "metadata": {
        "id": "f9YdOwCOhxbm"
      },
      "source": [
        "co_trans = defaultdict(dict)\n",
        "co_tag_word = defaultdict(dict)\n",
        "co_initial = defaultdict(dict)\n",
        "p=[.85,.15]\n",
        "\n",
        "for _dir,subdir,files in os.walk(path):\n",
        "    for file in files:\n",
        "            file_path=os.path.join(_dir,file)\n",
        "            tree=et.parse(file_path)\n",
        "            root=tree.getroot()\n",
        "            prev = []\n",
        "            prev_word='.'\n",
        "            for word in root.findall('.//'):\n",
        "                if word.tag=='w' or word.tag=='c' and w!=None:\n",
        "                    w=word.text\n",
        "                    tag=word.attrib.get('c5')\n",
        "                    w=w.lower()\n",
        "                    w=w.replace(' ','')\n",
        "                    if w not in different_words:\n",
        "                        different_words[w] = 1\n",
        "                    taglist = tag.split('-')\n",
        "                    if len(taglist)==1 :\n",
        "                        taglist.append(taglist[0])\n",
        "\n",
        "                    for i in taglist:\n",
        "                        if i not in different_tags:\n",
        "                            different_tags.append(i)\n",
        "                    \n",
        "                    co = 0;\n",
        "\n",
        "                    for j in taglist:\n",
        "                        if w not in co_tag_word[j] :\n",
        "                            co_tag_word[j][w]=0\n",
        "                        co_tag_word[j][w] += p[co]\n",
        "                        if prev_word == '.':\n",
        "                            if co_initial[j]=={}:\n",
        "                                co_initial[j]=0\n",
        "                            co_initial[j]+=p[co]\n",
        "                        co+=1\n",
        "                    if prev!=[]:\n",
        "                        for i in range(0,2):\n",
        "                            for j in range(0,2):\n",
        "                                if taglist[j] not in co_trans[prev[i]]: \n",
        "                                    co_trans[prev[i]][taglist[j]]=0\n",
        "                                co_trans[prev[i]][taglist[j]]+=p[i]*p[j]\n",
        "                    if w.isdecimal():\n",
        "                        cardinal_word = w\n",
        "                    prev = taglist\n",
        "\n",
        "\n",
        "load = {}\n",
        "for i in different_tags:\n",
        "    x = .2\n",
        "    if i=='NP0' :\n",
        "        x=.8\n",
        "    load[i] = x;\n",
        "\n",
        "for tag in co_tag_word:\n",
        "    min_key = min(co_tag_word[tag],key = co_tag_word[tag].get)\n",
        "    co_tag_word[tag][new_word]=load[tag]*co_tag_word[tag][min_key]\n",
        "\n",
        "load2 = .1;\n",
        "\n",
        "co_initial_sum = sum(co_initial.values())\n",
        "for tag in co_initial:\n",
        "    initial_matrix[tag] = co_initial[tag]/co_initial_sum\n",
        "\n",
        "for i in co_trans:\n",
        "    min_key = min(co_trans[i], key = co_trans[i].get)\n",
        "    for j in different_tags:\n",
        "        if j not in co_trans[i]:\n",
        "            co_trans[i][j] = load2*co_trans[i][min_key] \n",
        "\n",
        "for i in co_trans:\n",
        "    co_trans_sum = 0;\n",
        "    co_trans_sum += sum(co_trans[i].values())\n",
        "    for j in co_trans[i]:\n",
        "        if j not in transition_matrix[i]:\n",
        "             transition_matrix[i][j]=0\n",
        "        transition_matrix[i][j] += co_trans[i][j]/co_trans_sum\n",
        "\n",
        "for tag in co_tag_word:\n",
        "    local_sum = sum(co_tag_word[tag].values())\n",
        "    for x in co_tag_word[tag]:\n",
        "        if x not in probability_matrix[tag]:\n",
        "             probability_matrix[tag][x]=0\n",
        "        probability_matrix[tag][x] += co_tag_word[tag][x]/local_sum\n",
        "\n",
        "for tag in different_tags:\n",
        "    if tag not in initial_matrix:\n",
        "        initial_matrix[tag]=0\n",
        "\n",
        "df1 = pd.DataFrame.from_dict(transition_matrix)\n",
        "df2 = pd.DataFrame.from_dict(probability_matrix)\n",
        "df3 = pd.DataFrame(initial_matrix, index =[0])\n",
        "\n",
        "df1.to_csv('/content/drive/My Drive/Ai_project_hmm/transition_matrix')\n",
        "df2.to_csv('/content/drive/My Drive/Ai_project_hmm/probability_matrix')\n",
        "df3.to_csv('/content/drive/My Drive/Ai_project_hmm/initial_matrix')\n"
      ],
      "execution_count": 5,
      "outputs": []
    },
    {
      "cell_type": "markdown",
      "metadata": {
        "id": "9KjVbIcJQSZ6"
      },
      "source": [
        "Veterbi Algorithm\n"
      ]
    },
    {
      "cell_type": "code",
      "metadata": {
        "id": "V1TOHV64QXLL"
      },
      "source": [
        "test_path = '/content/drive/MyDrive/Ai_project_hmm/Test-corpus'"
      ],
      "execution_count": 6,
      "outputs": []
    },
    {
      "cell_type": "code",
      "metadata": {
        "id": "jDP24F6YRIKe",
        "colab": {
          "base_uri": "https://localhost:8080/"
        },
        "outputId": "cafc81e5-c89b-4ceb-e1f7-63c2a8f4ffa3"
      },
      "source": [
        "count = 0;\n",
        "delta_matrix = {}\n",
        "back_pointer = defaultdict(dict)\n",
        "ma_list = []\n",
        "t = 0\n",
        "correct_assigned = 0\n",
        "incorrect_assigned = 0\n",
        "new_correct_assigned = 0;\n",
        "new_incorrect_assigned = 0;\n",
        "for _dir,subdir,files in os.walk(test_path):\n",
        "    for file in files:\n",
        "        file_path=os.path.join(_dir,file)\n",
        "        tree=et.parse(file_path)\n",
        "        root=tree.getroot()\n",
        "        for word in root.findall('.//'):\n",
        "            if (word.tag=='w' or word.tag=='c') and word.text != None:\n",
        "                w=word.text\n",
        "                tag=word.attrib.get('c5')\n",
        "                w=w.lower()\n",
        "                w=w.replace(' ','')\n",
        "                if w.isdecimal():\n",
        "                    w=cardinal_word\n",
        "                taglist = tag.split('-')\n",
        "                if w not in different_words:\n",
        "                    w=new_word\n",
        "                if len(delta_matrix) == 0:\n",
        "                    for tag in different_tags:\n",
        "                        y = 0\n",
        "                        if w in probability_matrix[tag]:\n",
        "                            y = probability_matrix[tag][w]\n",
        "                        delta_matrix[tag]=initial_matrix[tag]*y\n",
        "                else:\n",
        "                    new_delta_matrix = {}\n",
        "                    for tag in different_tags:\n",
        "                        x = 0\n",
        "                        back = \"NP0\"\n",
        "                        for prev in different_tags:\n",
        "                            z1 = delta_matrix[prev]\n",
        "                            z2 = transition_matrix[prev][tag]\n",
        "                            if x<(z1*z2) :\n",
        "                                x = max(x, z1*z2)\n",
        "                                back = prev\n",
        "                        y = 0\n",
        "                        if w in probability_matrix[tag]:\n",
        "                            y=probability_matrix[tag][w]\n",
        "                        x *= y\n",
        "                        new_delta_matrix[tag] = x\n",
        "                        back_pointer[t][tag]=back;\n",
        "                    delta_matrix=new_delta_matrix\n",
        "                    t+=1\n",
        "\n",
        "                count+=1\n",
        "                del_sum=sum(delta_matrix.values())\n",
        "                # debug\n",
        "\n",
        "                #debug\n",
        "                for i in delta_matrix:\n",
        "                    delta_matrix[i]/=del_sum\n",
        "                ma_list.append(taglist)\n",
        "                if w=='.':\n",
        "                    assigned_tag = max(delta_matrix, key = delta_matrix.get)\n",
        "                    assigned_lis = [assigned_tag]\n",
        "                    cur_tag=assigned_tag\n",
        "                    while t!=0:\n",
        "                        t-=1\n",
        "                        assigned_lis.append(back_pointer[t][cur_tag])\n",
        "                        cur_tag=assigned_lis[-1]\n",
        "                    assigned_lis.reverse()\n",
        "                    ma = len(assigned_lis)\n",
        "                    for i in range(0,ma):\n",
        "                        if assigned_lis[i] in ma_list[i]:\n",
        "                            correct_assigned+=1;\n",
        "                            # if w == new_word || w == cardinal_word:\n",
        "                            #     new_correct_assigned+=1;\n",
        "                        else: \n",
        "                            incorrect_assigned+=1\n",
        "                            # if w == new_word || w == cardinal_word:\n",
        "                            #     new_incorrect_assigned+=1;\n",
        "                    t=0;\n",
        "                    back_pointer = defaultdict(dict)\n",
        "                    ma_list = []\n",
        "                    delta_matrix = {}\n",
        "\n",
        "print(\"Total accuracy: \")\n",
        "print(correct_assigned/(incorrect_assigned+correct_assigned))\n",
        "\n"
      ],
      "execution_count": 8,
      "outputs": [
        {
          "output_type": "stream",
          "text": [
            "Total accuracy: \n",
            "0.9635654323331393\n"
          ],
          "name": "stdout"
        }
      ]
    },
    {
      "cell_type": "code",
      "metadata": {
        "id": "ReE-Z9NGl4e_"
      },
      "source": [
        ""
      ],
      "execution_count": null,
      "outputs": []
    }
  ]
}