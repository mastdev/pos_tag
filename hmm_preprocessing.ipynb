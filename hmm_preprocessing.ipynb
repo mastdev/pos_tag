{
  "nbformat": 4,
  "nbformat_minor": 0,
  "metadata": {
    "colab": {
      "name": "hmm.ipynb",
      "provenance": [],
      "authorship_tag": "ABX9TyNObVxcS556gZcuBxaeKjgf",
      "include_colab_link": true
    },
    "kernelspec": {
      "name": "python3",
      "display_name": "Python 3"
    }
  },
  "cells": [
    {
      "cell_type": "markdown",
      "metadata": {
        "id": "view-in-github",
        "colab_type": "text"
      },
      "source": [
        "<a href=\"https://colab.research.google.com/github/mastdev/pos_tag/blob/main/hmm_preprocessing.ipynb\" target=\"_parent\"><img src=\"https://colab.research.google.com/assets/colab-badge.svg\" alt=\"Open In Colab\"/></a>"
      ]
    },
    {
      "cell_type": "code",
      "metadata": {
        "colab": {
          "base_uri": "https://localhost:8080/"
        },
        "id": "Ix5T1_utZbQH",
        "outputId": "63923984-d171-4e95-d370-82a77109210f"
      },
      "source": [
        "from google.colab import drive\n",
        "drive.mount('/content/drive')\n"
      ],
      "execution_count": 24,
      "outputs": [
        {
          "output_type": "stream",
          "text": [
            "Drive already mounted at /content/drive; to attempt to forcibly remount, call drive.mount(\"/content/drive\", force_remount=True).\n"
          ],
          "name": "stdout"
        }
      ]
    },
    {
      "cell_type": "code",
      "metadata": {
        "id": "vPvas13KkpRX"
      },
      "source": [
        "from collections import defaultdict\n",
        "import os\n",
        "import xml.etree.ElementTree as et\n",
        "import pandas as pd\n"
      ],
      "execution_count": 70,
      "outputs": []
    },
    {
      "cell_type": "markdown",
      "metadata": {
        "id": "wdMfvV22aX5J"
      },
      "source": [
        "Pre Processing\n"
      ]
    },
    {
      "cell_type": "code",
      "metadata": {
        "id": "4_iW8cwgatMH"
      },
      "source": [
        "path='/content/drive/My Drive/Ai_project_hmm/Train-corpus'\n",
        "transition_matrix = defaultdict(dict)\n",
        "probability_matrix = defaultdict(dict)\n",
        "initial_matrix = defaultdict(dict)\n",
        "different_tags = []\n",
        "different_words = {}"
      ],
      "execution_count": 90,
      "outputs": []
    },
    {
      "cell_type": "code",
      "metadata": {
        "id": "f9YdOwCOhxbm"
      },
      "source": [
        "co_trans = defaultdict(dict)\n",
        "co_tag_word = defaultdict(dict)\n",
        "co_initial = defaultdict(dict)\n",
        "p=[.75,.25]\n",
        "\n",
        "for _dir,subdir,files in os.walk(path):\n",
        "    for file in files:\n",
        "            file_path=os.path.join(_dir,file)\n",
        "            tree=et.parse(file_path)\n",
        "            root=tree.getroot()\n",
        "            prev = []\n",
        "            prev_word='.'\n",
        "            for word in root.findall('.//'):\n",
        "                if word.tag=='w' or word.tag=='c' and w!=None:\n",
        "                    w=word.text\n",
        "                    tag=word.attrib.get('c5')\n",
        "                    w=w.lower()\n",
        "                    w=w.replace(' ','')\n",
        "                    if w not in different_words:\n",
        "                        different_words[w] = 1\n",
        "                    taglist = tag.split('-')\n",
        "                    if len(taglist)==1 :\n",
        "                        taglist.append(taglist[0])\n",
        "\n",
        "                    for i in taglist:\n",
        "                        if i not in different_tags:\n",
        "                            different_tags.append(i)\n",
        "                    \n",
        "                    co = 0;\n",
        "\n",
        "                    for j in taglist:\n",
        "                        if w not in co_tag_word[j] :\n",
        "                            co_tag_word[j][w]=0\n",
        "                        co_tag_word[j][w] += p[co]\n",
        "                        if prev_word == '.':\n",
        "                            if co_initial[j]=={}:\n",
        "                                co_initial[j]=0\n",
        "                            co_initial[j]+=p[co]\n",
        "                        co+=1\n",
        "                    if prev!=[]:\n",
        "                        for i in range(0,2):\n",
        "                            for j in range(0,2):\n",
        "                                if taglist[j] not in co_trans[prev[i]]: \n",
        "                                    co_trans[prev[i]][taglist[j]]=0\n",
        "                                co_trans[prev[i]][taglist[j]]+=p[i]*p[j]\n",
        "                    prev = taglist\n",
        "\n",
        "\n",
        "new_word = \"#un#\"\n",
        "load = {}\n",
        "for i in different_tags:\n",
        "    x = .5\n",
        "    if i=='NP0' :\n",
        "        x=.8\n",
        "    load[i] = x;\n",
        "\n",
        "for tag in co_tag_word:\n",
        "    min_key = min(co_tag_word[tag],key = co_tag_word[tag].get)\n",
        "    co_tag_word[tag][new_word]=load[tag]*co_tag_word[tag][min_key]\n",
        "\n",
        "co_initial_sum = sum(co_initial.values())\n",
        "for tag in co_initial:\n",
        "    initial_matrix[tag] = co_initial[tag]/co_initial_sum\n",
        "co_trans_sum = 0;\n",
        "for x in co_trans:\n",
        "    co_trans_sum += sum(co_trans[x].values())\n",
        "for i in co_trans:\n",
        "    for j in co_trans[i]:\n",
        "        if j not in transition_matrix[i]:\n",
        "             transition_matrix[i][j]=0\n",
        "        transition_matrix[i][j] += co_trans[i][j]/co_trans_sum\n",
        "for tag in co_tag_word:\n",
        "    local_sum = sum(co_tag_word[tag].values())\n",
        "    for x in co_tag_word[tag]:\n",
        "        if x not in probability_matrix[tag]:\n",
        "             probability_matrix[tag][x]=0\n",
        "        probability_matrix[tag][x] += co_tag_word[tag][x]/local_sum\n",
        "\n",
        "for tag in different_tags:\n",
        "    if tag not in initial_matrix:\n",
        "        initial_matrix[tag]=0\n",
        "    for subtag in different_tags:\n",
        "        if subtag not in transition_matrix[tag]:\n",
        "            transition_matrix[tag][subtag]=0\n",
        "\n",
        "df1 = pd.DataFrame.from_dict(transition_matrix)\n",
        "df2 = pd.DataFrame.from_dict(probability_matrix)\n",
        "df3 = pd.DataFrame(initial_matrix, index =[0])\n",
        "\n",
        "df1.to_csv('/content/drive/My Drive/Ai_project_hmm/transition_matrix')\n",
        "df2.to_csv('/content/drive/My Drive/Ai_project_hmm/probability_matrix')\n",
        "df3.to_csv('/content/drive/My Drive/Ai_project_hmm/initial_matrix')\n",
        "\n",
        "\n"
      ],
      "execution_count": null,
      "outputs": []
    },
    {
      "cell_type": "code",
      "metadata": {
        "id": "WgBaNo1G4Pq1"
      },
      "source": [
        ""
      ],
      "execution_count": null,
      "outputs": []
    }
  ]
}