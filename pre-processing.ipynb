{
 "cells": [
  {
   "cell_type": "code",
   "execution_count": 3,
   "metadata": {},
   "outputs": [],
   "source": [
    "import os\n",
    "import pandas as pd\n",
    "import xml.etree.ElementTree as ET"
   ]
  },
  {
   "cell_type": "code",
   "execution_count": 2,
   "metadata": {},
   "outputs": [],
   "source": [
    "train_dir='C:/Users/LENOVO/Desktop/POS-tagger/Assignment-files/Train-corpus'\n",
    "\n",
    "words=[]\n",
    "tags=[]\n",
    "sentences=[]\n",
    "\n",
    "for _dir, subdir, files in os.walk(train_dir):\n",
    "    for files in files:\n",
    "        tree=ET.parse(os.path.join(os.path.abspath(_dir),files))\n",
    "        root=tree.getroot()\n",
    "        for ele in root.findall('.//'):\n",
    "            if(ele.tag=='w' or ele.tag=='c'):\n",
    "                words.append(ele.text)\n",
    "                tags.append(ele.attrib['c5'])\n",
    "                        \n",
    "data={'WORDS': words, 'POS_TAGS': tags}\n",
    "pd.DataFrame(data).to_csv('train words_postag table.csv', index=False)"
   ]
  },
  {
   "cell_type": "code",
   "execution_count": 4,
   "metadata": {},
   "outputs": [
    {
     "data": {
      "text/html": [
       "<div>\n",
       "<style scoped>\n",
       "    .dataframe tbody tr th:only-of-type {\n",
       "        vertical-align: middle;\n",
       "    }\n",
       "\n",
       "    .dataframe tbody tr th {\n",
       "        vertical-align: top;\n",
       "    }\n",
       "\n",
       "    .dataframe thead th {\n",
       "        text-align: right;\n",
       "    }\n",
       "</style>\n",
       "<table border=\"1\" class=\"dataframe\">\n",
       "  <thead>\n",
       "    <tr style=\"text-align: right;\">\n",
       "      <th></th>\n",
       "      <th>WORDS</th>\n",
       "      <th>POS_TAGS</th>\n",
       "    </tr>\n",
       "  </thead>\n",
       "  <tbody>\n",
       "    <tr>\n",
       "      <td>0</td>\n",
       "      <td>NEWS</td>\n",
       "      <td>NN1</td>\n",
       "    </tr>\n",
       "    <tr>\n",
       "      <td>1</td>\n",
       "      <td>IN</td>\n",
       "      <td>PRP</td>\n",
       "    </tr>\n",
       "    <tr>\n",
       "      <td>2</td>\n",
       "      <td>FOCUS</td>\n",
       "      <td>NN1</td>\n",
       "    </tr>\n",
       "    <tr>\n",
       "      <td>3</td>\n",
       "      <td>Published</td>\n",
       "      <td>VVN</td>\n",
       "    </tr>\n",
       "    <tr>\n",
       "      <td>4</td>\n",
       "      <td>by</td>\n",
       "      <td>PRP</td>\n",
       "    </tr>\n",
       "  </tbody>\n",
       "</table>\n",
       "</div>"
      ],
      "text/plain": [
       "        WORDS POS_TAGS\n",
       "0       NEWS       NN1\n",
       "1         IN       PRP\n",
       "2       FOCUS      NN1\n",
       "3  Published       VVN\n",
       "4         by       PRP"
      ]
     },
     "execution_count": 4,
     "metadata": {},
     "output_type": "execute_result"
    }
   ],
   "source": [
    "df=pd.read_csv('train words_postag table.csv')\n",
    "df.head()"
   ]
  },
  {
   "cell_type": "code",
   "execution_count": 5,
   "metadata": {},
   "outputs": [
    {
     "data": {
      "text/html": [
       "<div>\n",
       "<style scoped>\n",
       "    .dataframe tbody tr th:only-of-type {\n",
       "        vertical-align: middle;\n",
       "    }\n",
       "\n",
       "    .dataframe tbody tr th {\n",
       "        vertical-align: top;\n",
       "    }\n",
       "\n",
       "    .dataframe thead th {\n",
       "        text-align: right;\n",
       "    }\n",
       "</style>\n",
       "<table border=\"1\" class=\"dataframe\">\n",
       "  <thead>\n",
       "    <tr style=\"text-align: right;\">\n",
       "      <th></th>\n",
       "      <th>WORDS</th>\n",
       "      <th>POS_TAGS</th>\n",
       "    </tr>\n",
       "  </thead>\n",
       "  <tbody>\n",
       "    <tr>\n",
       "      <td>10348610</td>\n",
       "      <td>Vera</td>\n",
       "      <td>NP0</td>\n",
       "    </tr>\n",
       "    <tr>\n",
       "      <td>10348611</td>\n",
       "      <td>N.</td>\n",
       "      <td>NP0</td>\n",
       "    </tr>\n",
       "    <tr>\n",
       "      <td>10348612</td>\n",
       "      <td>Paul</td>\n",
       "      <td>NP0</td>\n",
       "    </tr>\n",
       "    <tr>\n",
       "      <td>10348613</td>\n",
       "      <td>,</td>\n",
       "      <td>PUN</td>\n",
       "    </tr>\n",
       "    <tr>\n",
       "      <td>10348614</td>\n",
       "      <td>O.B.E.</td>\n",
       "      <td>NP0</td>\n",
       "    </tr>\n",
       "  </tbody>\n",
       "</table>\n",
       "</div>"
      ],
      "text/plain": [
       "           WORDS POS_TAGS\n",
       "10348610   Vera       NP0\n",
       "10348611     N.       NP0\n",
       "10348612    Paul      NP0\n",
       "10348613      ,       PUN\n",
       "10348614  O.B.E.      NP0"
      ]
     },
     "execution_count": 5,
     "metadata": {},
     "output_type": "execute_result"
    }
   ],
   "source": [
    "df.tail()"
   ]
  },
  {
   "cell_type": "code",
   "execution_count": 6,
   "metadata": {},
   "outputs": [],
   "source": [
    "test_dir='C:/Users/LENOVO/Desktop/POS-tagger/Assignment-files/Test-corpus'\n",
    "\n",
    "test_words=[]\n",
    "test_tags=[]\n",
    "\n",
    "for _dir, subdir, files in os.walk(test_dir):\n",
    "    for files in files:\n",
    "        tree=ET.parse(os.path.join(os.path.abspath(_dir),files))\n",
    "        root=tree.getroot()\n",
    "        for ele in root.findall('.//'):\n",
    "            if(ele.tag=='w' or ele.tag=='c'):\n",
    "                test_words.append(ele.text)\n",
    "                test_tags.append(ele.attrib['c5'])\n",
    "                        \n",
    "test_data={'WORDS': test_words, 'POS_TAGS': test_tags}\n",
    "pd.DataFrame(test_data).to_csv('test words_postag table.csv', index=False)"
   ]
  },
  {
   "cell_type": "code",
   "execution_count": 4,
   "metadata": {},
   "outputs": [
    {
     "data": {
      "text/html": [
       "<div>\n",
       "<style scoped>\n",
       "    .dataframe tbody tr th:only-of-type {\n",
       "        vertical-align: middle;\n",
       "    }\n",
       "\n",
       "    .dataframe tbody tr th {\n",
       "        vertical-align: top;\n",
       "    }\n",
       "\n",
       "    .dataframe thead th {\n",
       "        text-align: right;\n",
       "    }\n",
       "</style>\n",
       "<table border=\"1\" class=\"dataframe\">\n",
       "  <thead>\n",
       "    <tr style=\"text-align: right;\">\n",
       "      <th></th>\n",
       "      <th>WORDS</th>\n",
       "      <th>POS_TAGS</th>\n",
       "    </tr>\n",
       "  </thead>\n",
       "  <tbody>\n",
       "    <tr>\n",
       "      <td>0</td>\n",
       "      <td>THE</td>\n",
       "      <td>AT0</td>\n",
       "    </tr>\n",
       "    <tr>\n",
       "      <td>1</td>\n",
       "      <td>PLAYERS</td>\n",
       "      <td>NN2</td>\n",
       "    </tr>\n",
       "    <tr>\n",
       "      <td>2</td>\n",
       "      <td>Virtually</td>\n",
       "      <td>AV0</td>\n",
       "    </tr>\n",
       "    <tr>\n",
       "      <td>3</td>\n",
       "      <td>every</td>\n",
       "      <td>AT0</td>\n",
       "    </tr>\n",
       "    <tr>\n",
       "      <td>4</td>\n",
       "      <td>country</td>\n",
       "      <td>NN1</td>\n",
       "    </tr>\n",
       "  </tbody>\n",
       "</table>\n",
       "</div>"
      ],
      "text/plain": [
       "        WORDS POS_TAGS\n",
       "0        THE       AT0\n",
       "1     PLAYERS      NN2\n",
       "2  Virtually       AV0\n",
       "3      every       AT0\n",
       "4    country       NN1"
      ]
     },
     "execution_count": 4,
     "metadata": {},
     "output_type": "execute_result"
    }
   ],
   "source": [
    "dff=pd.read_csv('test words_postag table.csv')\n",
    "dff.head()"
   ]
  },
  {
   "cell_type": "code",
   "execution_count": 5,
   "metadata": {},
   "outputs": [
    {
     "data": {
      "text/html": [
       "<div>\n",
       "<style scoped>\n",
       "    .dataframe tbody tr th:only-of-type {\n",
       "        vertical-align: middle;\n",
       "    }\n",
       "\n",
       "    .dataframe tbody tr th {\n",
       "        vertical-align: top;\n",
       "    }\n",
       "\n",
       "    .dataframe thead th {\n",
       "        text-align: right;\n",
       "    }\n",
       "</style>\n",
       "<table border=\"1\" class=\"dataframe\">\n",
       "  <thead>\n",
       "    <tr style=\"text-align: right;\">\n",
       "      <th></th>\n",
       "      <th>WORDS</th>\n",
       "      <th>POS_TAGS</th>\n",
       "    </tr>\n",
       "  </thead>\n",
       "  <tbody>\n",
       "    <tr>\n",
       "      <td>4129739</td>\n",
       "      <td>Mounsey</td>\n",
       "      <td>NP0</td>\n",
       "    </tr>\n",
       "    <tr>\n",
       "      <td>4129740</td>\n",
       "      <td>,</td>\n",
       "      <td>PUN</td>\n",
       "    </tr>\n",
       "    <tr>\n",
       "      <td>4129741</td>\n",
       "      <td>Customer</td>\n",
       "      <td>NN1</td>\n",
       "    </tr>\n",
       "    <tr>\n",
       "      <td>4129742</td>\n",
       "      <td>Marketing</td>\n",
       "      <td>NN1</td>\n",
       "    </tr>\n",
       "    <tr>\n",
       "      <td>4129743</td>\n",
       "      <td>.</td>\n",
       "      <td>PUN</td>\n",
       "    </tr>\n",
       "  </tbody>\n",
       "</table>\n",
       "</div>"
      ],
      "text/plain": [
       "             WORDS POS_TAGS\n",
       "4129739    Mounsey      NP0\n",
       "4129740         ,       PUN\n",
       "4129741  Customer       NN1\n",
       "4129742  Marketing      NN1\n",
       "4129743          .      PUN"
      ]
     },
     "execution_count": 5,
     "metadata": {},
     "output_type": "execute_result"
    }
   ],
   "source": [
    "dff.tail()"
   ]
  },
  {
   "cell_type": "code",
   "execution_count": null,
   "metadata": {},
   "outputs": [],
   "source": []
  },
  {
   "cell_type": "code",
   "execution_count": null,
   "metadata": {},
   "outputs": [],
   "source": []
  },
  {
   "cell_type": "code",
   "execution_count": null,
   "metadata": {},
   "outputs": [],
   "source": []
  },
  {
   "cell_type": "code",
   "execution_count": 9,
   "metadata": {},
   "outputs": [],
   "source": [
    "## frequency count dictionary"
   ]
  },
  {
   "cell_type": "code",
   "execution_count": 16,
   "metadata": {},
   "outputs": [],
   "source": [
    "freq= {}\n",
    "for i in dff.index:\n",
    "    temp=str(dff['WORDS'][i])[:-1]+'_'+dff['POS_TAGS'][i]\n",
    "    if(temp in freq):\n",
    "        freq[temp]+=1\n",
    "    else:\n",
    "        freq[temp]=1\n"
   ]
  },
  {
   "cell_type": "code",
   "execution_count": 40,
   "metadata": {},
   "outputs": [
    {
     "name": "stdout",
     "output_type": "stream",
     "text": [
      "the_AT0 -> 212209\n",
      "_PUN -> 197318\n",
      ",_PUN -> 190321\n",
      "of_PRF -> 119522\n",
      "and_CJC -> 95620\n",
      "a_AT0 -> 80284\n",
      "in_PRP -> 60695\n",
      "to_TO0 -> 58815\n",
      "_PUQ -> 54486\n",
      "to_PRP -> 37913\n"
     ]
    }
   ],
   "source": [
    "freq={k: v for k, v in sorted(freq.items(), key=lambda item:item[1], reverse=True)}\n",
    "top10=list(freq.items())\n",
    "for i in range(10):\n",
    "    print(top10[i][0], '->', top10[i][1])"
   ]
  },
  {
   "cell_type": "code",
   "execution_count": null,
   "metadata": {},
   "outputs": [],
   "source": []
  }
 ],
 "metadata": {
  "kernelspec": {
   "display_name": "Python 3",
   "language": "python",
   "name": "python3"
  },
  "language_info": {
   "codemirror_mode": {
    "name": "ipython",
    "version": 3
   },
   "file_extension": ".py",
   "mimetype": "text/x-python",
   "name": "python",
   "nbconvert_exporter": "python",
   "pygments_lexer": "ipython3",
   "version": "3.7.4"
  }
 },
 "nbformat": 4,
 "nbformat_minor": 2
}
