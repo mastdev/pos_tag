{
 "cells": [
  {
   "cell_type": "code",
   "execution_count": 1,
   "metadata": {},
   "outputs": [],
   "source": [
    "import os\n",
    "import pandas as pd\n",
    "import xml.etree.ElementTree as ET"
   ]
  },
  {
   "cell_type": "code",
   "execution_count": 2,
   "metadata": {},
   "outputs": [],
   "source": [
    "train_dir='C:/Users/LENOVO/Desktop/POS-tagger/Assignment-files/Train-corpus'\n",
    "\n",
    "words=[]\n",
    "tags=[]\n",
    "sentences=[]\n",
    "\n",
    "for _dir, subdir, files in os.walk(train_dir):\n",
    "    for files in files:\n",
    "        tree=ET.parse(os.path.join(os.path.abspath(_dir),files))\n",
    "        root=tree.getroot()\n",
    "        for ele in root.findall('.//'):\n",
    "            if(ele.tag=='w' or ele.tag=='c'):\n",
    "                words.append(ele.text)\n",
    "                tags.append(ele.attrib['c5'])\n",
    "                        \n",
    "data={'WORDS': words, 'POS_TAGS': tags}\n",
    "pd.DataFrame(data).to_csv('train words_postag table.csv', index=False)"
   ]
  },
  {
   "cell_type": "code",
   "execution_count": 2,
   "metadata": {},
   "outputs": [
    {
     "data": {
      "text/html": [
       "<div>\n",
       "<style scoped>\n",
       "    .dataframe tbody tr th:only-of-type {\n",
       "        vertical-align: middle;\n",
       "    }\n",
       "\n",
       "    .dataframe tbody tr th {\n",
       "        vertical-align: top;\n",
       "    }\n",
       "\n",
       "    .dataframe thead th {\n",
       "        text-align: right;\n",
       "    }\n",
       "</style>\n",
       "<table border=\"1\" class=\"dataframe\">\n",
       "  <thead>\n",
       "    <tr style=\"text-align: right;\">\n",
       "      <th></th>\n",
       "      <th>WORDS</th>\n",
       "      <th>POS_TAGS</th>\n",
       "    </tr>\n",
       "  </thead>\n",
       "  <tbody>\n",
       "    <tr>\n",
       "      <td>0</td>\n",
       "      <td>NEWS</td>\n",
       "      <td>NN1</td>\n",
       "    </tr>\n",
       "    <tr>\n",
       "      <td>1</td>\n",
       "      <td>IN</td>\n",
       "      <td>PRP</td>\n",
       "    </tr>\n",
       "    <tr>\n",
       "      <td>2</td>\n",
       "      <td>FOCUS</td>\n",
       "      <td>NN1</td>\n",
       "    </tr>\n",
       "    <tr>\n",
       "      <td>3</td>\n",
       "      <td>Published</td>\n",
       "      <td>VVN</td>\n",
       "    </tr>\n",
       "    <tr>\n",
       "      <td>4</td>\n",
       "      <td>by</td>\n",
       "      <td>PRP</td>\n",
       "    </tr>\n",
       "  </tbody>\n",
       "</table>\n",
       "</div>"
      ],
      "text/plain": [
       "        WORDS POS_TAGS\n",
       "0       NEWS       NN1\n",
       "1         IN       PRP\n",
       "2       FOCUS      NN1\n",
       "3  Published       VVN\n",
       "4         by       PRP"
      ]
     },
     "execution_count": 2,
     "metadata": {},
     "output_type": "execute_result"
    }
   ],
   "source": [
    "df=pd.read_csv('train words_postag table.csv')\n",
    "df.head()"
   ]
  },
  {
   "cell_type": "code",
   "execution_count": 3,
   "metadata": {},
   "outputs": [
    {
     "data": {
      "text/html": [
       "<div>\n",
       "<style scoped>\n",
       "    .dataframe tbody tr th:only-of-type {\n",
       "        vertical-align: middle;\n",
       "    }\n",
       "\n",
       "    .dataframe tbody tr th {\n",
       "        vertical-align: top;\n",
       "    }\n",
       "\n",
       "    .dataframe thead th {\n",
       "        text-align: right;\n",
       "    }\n",
       "</style>\n",
       "<table border=\"1\" class=\"dataframe\">\n",
       "  <thead>\n",
       "    <tr style=\"text-align: right;\">\n",
       "      <th></th>\n",
       "      <th>WORDS</th>\n",
       "      <th>POS_TAGS</th>\n",
       "    </tr>\n",
       "  </thead>\n",
       "  <tbody>\n",
       "    <tr>\n",
       "      <td>10348610</td>\n",
       "      <td>Vera</td>\n",
       "      <td>NP0</td>\n",
       "    </tr>\n",
       "    <tr>\n",
       "      <td>10348611</td>\n",
       "      <td>N.</td>\n",
       "      <td>NP0</td>\n",
       "    </tr>\n",
       "    <tr>\n",
       "      <td>10348612</td>\n",
       "      <td>Paul</td>\n",
       "      <td>NP0</td>\n",
       "    </tr>\n",
       "    <tr>\n",
       "      <td>10348613</td>\n",
       "      <td>,</td>\n",
       "      <td>PUN</td>\n",
       "    </tr>\n",
       "    <tr>\n",
       "      <td>10348614</td>\n",
       "      <td>O.B.E.</td>\n",
       "      <td>NP0</td>\n",
       "    </tr>\n",
       "  </tbody>\n",
       "</table>\n",
       "</div>"
      ],
      "text/plain": [
       "           WORDS POS_TAGS\n",
       "10348610   Vera       NP0\n",
       "10348611     N.       NP0\n",
       "10348612    Paul      NP0\n",
       "10348613      ,       PUN\n",
       "10348614  O.B.E.      NP0"
      ]
     },
     "execution_count": 3,
     "metadata": {},
     "output_type": "execute_result"
    }
   ],
   "source": [
    "df.tail()"
   ]
  },
  {
   "cell_type": "code",
   "execution_count": 6,
   "metadata": {},
   "outputs": [],
   "source": [
    "test_dir='C:/Users/LENOVO/Desktop/POS-tagger/Assignment-files/Test-corpus'\n",
    "\n",
    "test_words=[]\n",
    "test_tags=[]\n",
    "\n",
    "for _dir, subdir, files in os.walk(test_dir):\n",
    "    for files in files:\n",
    "        tree=ET.parse(os.path.join(os.path.abspath(_dir),files))\n",
    "        root=tree.getroot()\n",
    "        for ele in root.findall('.//'):\n",
    "            if(ele.tag=='w' or ele.tag=='c'):\n",
    "                test_words.append(ele.text)\n",
    "                test_tags.append(ele.attrib['c5'])\n",
    "                        \n",
    "test_data={'WORDS': test_words, 'POS_TAGS': test_tags}\n",
    "pd.DataFrame(test_data).to_csv('test words_postag table.csv', index=False)"
   ]
  },
  {
   "cell_type": "code",
   "execution_count": 16,
   "metadata": {},
   "outputs": [
    {
     "data": {
      "text/html": [
       "<div>\n",
       "<style scoped>\n",
       "    .dataframe tbody tr th:only-of-type {\n",
       "        vertical-align: middle;\n",
       "    }\n",
       "\n",
       "    .dataframe tbody tr th {\n",
       "        vertical-align: top;\n",
       "    }\n",
       "\n",
       "    .dataframe thead th {\n",
       "        text-align: right;\n",
       "    }\n",
       "</style>\n",
       "<table border=\"1\" class=\"dataframe\">\n",
       "  <thead>\n",
       "    <tr style=\"text-align: right;\">\n",
       "      <th></th>\n",
       "      <th>WORDS</th>\n",
       "      <th>POS_TAGS</th>\n",
       "    </tr>\n",
       "  </thead>\n",
       "  <tbody>\n",
       "    <tr>\n",
       "      <td>0</td>\n",
       "      <td>THE</td>\n",
       "      <td>AT0</td>\n",
       "    </tr>\n",
       "    <tr>\n",
       "      <td>1</td>\n",
       "      <td>PLAYERS</td>\n",
       "      <td>NN2</td>\n",
       "    </tr>\n",
       "    <tr>\n",
       "      <td>2</td>\n",
       "      <td>Virtually</td>\n",
       "      <td>AV0</td>\n",
       "    </tr>\n",
       "    <tr>\n",
       "      <td>3</td>\n",
       "      <td>every</td>\n",
       "      <td>AT0</td>\n",
       "    </tr>\n",
       "    <tr>\n",
       "      <td>4</td>\n",
       "      <td>country</td>\n",
       "      <td>NN1</td>\n",
       "    </tr>\n",
       "  </tbody>\n",
       "</table>\n",
       "</div>"
      ],
      "text/plain": [
       "        WORDS POS_TAGS\n",
       "0        THE       AT0\n",
       "1     PLAYERS      NN2\n",
       "2  Virtually       AV0\n",
       "3      every       AT0\n",
       "4    country       NN1"
      ]
     },
     "execution_count": 16,
     "metadata": {},
     "output_type": "execute_result"
    }
   ],
   "source": [
    "df2=pd.read_csv('test words_postag table.csv')\n",
    "df2.head()"
   ]
  },
  {
   "cell_type": "code",
   "execution_count": 17,
   "metadata": {},
   "outputs": [
    {
     "data": {
      "text/html": [
       "<div>\n",
       "<style scoped>\n",
       "    .dataframe tbody tr th:only-of-type {\n",
       "        vertical-align: middle;\n",
       "    }\n",
       "\n",
       "    .dataframe tbody tr th {\n",
       "        vertical-align: top;\n",
       "    }\n",
       "\n",
       "    .dataframe thead th {\n",
       "        text-align: right;\n",
       "    }\n",
       "</style>\n",
       "<table border=\"1\" class=\"dataframe\">\n",
       "  <thead>\n",
       "    <tr style=\"text-align: right;\">\n",
       "      <th></th>\n",
       "      <th>WORDS</th>\n",
       "      <th>POS_TAGS</th>\n",
       "    </tr>\n",
       "  </thead>\n",
       "  <tbody>\n",
       "    <tr>\n",
       "      <td>4129739</td>\n",
       "      <td>Mounsey</td>\n",
       "      <td>NP0</td>\n",
       "    </tr>\n",
       "    <tr>\n",
       "      <td>4129740</td>\n",
       "      <td>,</td>\n",
       "      <td>PUN</td>\n",
       "    </tr>\n",
       "    <tr>\n",
       "      <td>4129741</td>\n",
       "      <td>Customer</td>\n",
       "      <td>NN1</td>\n",
       "    </tr>\n",
       "    <tr>\n",
       "      <td>4129742</td>\n",
       "      <td>Marketing</td>\n",
       "      <td>NN1</td>\n",
       "    </tr>\n",
       "    <tr>\n",
       "      <td>4129743</td>\n",
       "      <td>.</td>\n",
       "      <td>PUN</td>\n",
       "    </tr>\n",
       "  </tbody>\n",
       "</table>\n",
       "</div>"
      ],
      "text/plain": [
       "             WORDS POS_TAGS\n",
       "4129739    Mounsey      NP0\n",
       "4129740         ,       PUN\n",
       "4129741  Customer       NN1\n",
       "4129742  Marketing      NN1\n",
       "4129743          .      PUN"
      ]
     },
     "execution_count": 17,
     "metadata": {},
     "output_type": "execute_result"
    }
   ],
   "source": [
    "df2.tail()"
   ]
  },
  {
   "cell_type": "code",
   "execution_count": null,
   "metadata": {},
   "outputs": [],
   "source": []
  },
  {
   "cell_type": "code",
   "execution_count": null,
   "metadata": {},
   "outputs": [],
   "source": []
  },
  {
   "cell_type": "code",
   "execution_count": null,
   "metadata": {},
   "outputs": [],
   "source": []
  },
  {
   "cell_type": "code",
   "execution_count": 18,
   "metadata": {},
   "outputs": [],
   "source": [
    "## frequency count dictionary"
   ]
  },
  {
   "cell_type": "code",
   "execution_count": 31,
   "metadata": {},
   "outputs": [],
   "source": [
    "freq={}\n",
    "word_cnt={}\n",
    "tag_cnt={}\n",
    "for i in df.index:\n",
    "    a= str(df['WORDS'][i])[:-1]\n",
    "    b= df['POS_TAGS'][i]\n",
    "    c= a+'_'+b\n",
    "    if(c in freq):\n",
    "        freq[c]+=1\n",
    "    else:\n",
    "        freq[c]=1\n",
    "    if(a in word_cnt):\n",
    "        word_cnt[a]+=1\n",
    "    else:\n",
    "        word_cnt[a]=1\n",
    "    if(b in tag_cnt):\n",
    "        tag_cnt[b]+=1\n",
    "    else:\n",
    "        tag_cnt[b]=1\n",
    "\n",
    "for i in df2.index:\n",
    "    a= str(df2['WORDS'][i])[:-1]\n",
    "    b= df2['POS_TAGS'][i]\n",
    "    c= a+'_'+b\n",
    "    if(c in freq):\n",
    "        freq[c]+=1\n",
    "    else:\n",
    "        freq[c]=1\n",
    "    if(a in word_cnt):\n",
    "        word_cnt[a]+=1\n",
    "    else:\n",
    "        word_cnt[a]=1\n",
    "    if(b in tag_cnt):\n",
    "        tag_cnt[b]+=1\n",
    "    else:\n",
    "        tag_cnt[b]=1\n"
   ]
  },
  {
   "cell_type": "code",
   "execution_count": 105,
   "metadata": {
    "scrolled": true
   },
   "outputs": [
    {
     "name": "stdout",
     "output_type": "stream",
     "text": [
      "\n",
      "\n",
      "Top 10 frequently used word_tag pairs:\n",
      "\n",
      "  WORDS -> POSTAG\n",
      "1 the_AT0 -> 737140\n",
      "2 ,_PUN -> 659812\n",
      "3 of_PRF -> 404128\n",
      "4 and_CJC -> 327207\n",
      "5 a_AT0 -> 278610\n",
      "6 in_PRP -> 218123\n",
      "7 to_TO0 -> 206067\n",
      "8 to_PRP -> 130106\n",
      "9 is_VBZ -> 123772\n",
      "10 was_VBD -> 116506\n",
      "\n",
      "\n",
      "Top 10 frequently used words:\n",
      "\n",
      "  WORDS -> FREQUENCY\n",
      "1 the -> 747616\n",
      "2 , -> 659812\n",
      "3 of -> 405600\n",
      "4 to -> 339274\n",
      "5 and -> 327210\n",
      "6 a -> 279943\n",
      "7 in -> 235617\n",
      "8 is -> 123778\n",
      "9 was -> 116544\n",
      "\n",
      "\n",
      "Top 10 frequently used tags:\n",
      "\n",
      "  TAG -> FREQUENCY\n",
      "1 NN1 -> 1907624\n",
      "2 PUN -> 1425458\n",
      "3 AT0 -> 1190870\n",
      "4 PRP -> 1064133\n",
      "5 AJ0 -> 879239\n",
      "6 NN2 -> 704640\n",
      "7 AV0 -> 583866\n",
      "8 NP0 -> 581725\n",
      "9 PNP -> 525646\n",
      "10 CJC -> 451472\n"
     ]
    }
   ],
   "source": [
    "freq= {k: v for k, v in sorted(freq.items(), key=lambda item:item[1], reverse=True)}\n",
    "word_cnt= {k: v for k, v in sorted(word_cnt.items(), key=lambda item:item[1], reverse=True)}\n",
    "tag_cnt= {k: v for k, v in sorted(tag_cnt.items(), key=lambda item:item[1], reverse=True)}\n",
    "top10=list(freq.items())\n",
    "print(\"\\n\\nTop 10 frequently used word_tag pairs:\\n\\n\", \" WORDS -> POSTAG\")\n",
    "x=1\n",
    "a=[]\n",
    "b=[]\n",
    "for i in range(12):\n",
    "    if(i!=1 and i!=8):\n",
    "        print(x, top10[i][0], '->', top10[i][1])\n",
    "        x+=1\n",
    "        \n",
    "\n",
    "top10=list(word_cnt.items())\n",
    "print(\"\\n\\nTop 10 frequently used words:\\n\\n\", \" WORDS -> FREQUENCY\")\n",
    "x=1\n",
    "for i in range(10):\n",
    "    if(i!=0):\n",
    "        print(x, top10[i][0], '->', top10[i][1])\n",
    "        x+=1\n",
    "        \n",
    "\n",
    "top10=list(tag_cnt.items())\n",
    "print(\"\\n\\nTop 10 frequently used tags:\\n\\n\", \" TAG -> FREQUENCY\")\n",
    "for i in range(10):\n",
    "    print(i+1, top10[i][0], '->', top10[i][1])\n",
    "    a.append(top10[i][0])\n",
    "    b.append(top10[i][1])\n"
   ]
  },
  {
   "cell_type": "code",
   "execution_count": 106,
   "metadata": {},
   "outputs": [
    {
     "data": {
      "text/plain": [
       "['NN1', 'PUN', 'AT0', 'PRP', 'AJ0', 'NN2', 'AV0', 'NP0', 'PNP', 'CJC']"
      ]
     },
     "execution_count": 106,
     "metadata": {},
     "output_type": "execute_result"
    }
   ],
   "source": [
    "a"
   ]
  },
  {
   "cell_type": "code",
   "execution_count": 70,
   "metadata": {},
   "outputs": [],
   "source": [
    "freq= {k: v for k, v in sorted(freq.items(), key=lambda item:item[1], reverse=True)}\n",
    "word_cnt= {k: v for k, v in sorted(word_cnt.items(), key=lambda item:item[1], reverse=True)}\n",
    "tag_cnt= {k: v for k, v in sorted(tag_cnt.items(), key=lambda item:item[1], reverse=True)}\n",
    "top10=list(freq.items())\n",
    "a1=[]\n",
    "b1=[]\n",
    "#print(\"\\n\\nTop 10 frequently used word_tag pairs:\\n\\n\", \" WORDS -> POSTAG\")\n",
    "for i in range(10):\n",
    "    a1.append(top10[i][0])\n",
    "    b1.append(top10[i][1])\n",
    "\n",
    "top10=list(word_cnt.items())\n",
    "a2=[]\n",
    "b2=[]\n",
    "#print(\"\\n\\nTop 10 frequently used words:\\n\\n\", \" WORDS -> FREQUENCY\")\n",
    "for i in range(10):\n",
    "    a2.append(top10[i][0])\n",
    "    b2.append(top10[i][1])\n",
    "\n",
    "top10=list(tag_cnt.items())\n",
    "a3=[]\n",
    "b3=[]\n",
    "#print(\"\\n\\nTop 10 frequently used tags:\\n\\n\", \" TAG -> FREQUENCY\")\n",
    "for i in range(10):\n",
    "    a3.append(top10[i][0])\n",
    "    b3.append(top10[i][1])\n"
   ]
  },
  {
   "cell_type": "code",
   "execution_count": 71,
   "metadata": {
    "scrolled": true
   },
   "outputs": [
    {
     "data": {
      "text/plain": [
       "['the_AT0',\n",
       " '_PUN',\n",
       " ',_PUN',\n",
       " 'of_PRF',\n",
       " 'and_CJC',\n",
       " 'a_AT0',\n",
       " 'in_PRP',\n",
       " 'to_TO0',\n",
       " '_PUQ',\n",
       " 'to_PRP']"
      ]
     },
     "execution_count": 71,
     "metadata": {},
     "output_type": "execute_result"
    }
   ],
   "source": [
    "a1"
   ]
  },
  {
   "cell_type": "code",
   "execution_count": 72,
   "metadata": {},
   "outputs": [
    {
     "data": {
      "text/plain": [
       "['', 'the', ',', 'of', 'to', 'and', 'a', 'in', 'is', 'was']"
      ]
     },
     "execution_count": 72,
     "metadata": {},
     "output_type": "execute_result"
    }
   ],
   "source": [
    "a2"
   ]
  },
  {
   "cell_type": "code",
   "execution_count": 73,
   "metadata": {},
   "outputs": [
    {
     "data": {
      "text/plain": [
       "['NN1', 'PUN', 'AT0', 'PRP', 'AJ0', 'NN2', 'AV0', 'NP0', 'PNP', 'CJC']"
      ]
     },
     "execution_count": 73,
     "metadata": {},
     "output_type": "execute_result"
    }
   ],
   "source": [
    "a3"
   ]
  },
  {
   "cell_type": "code",
   "execution_count": null,
   "metadata": {},
   "outputs": [],
   "source": []
  },
  {
   "cell_type": "code",
   "execution_count": 42,
   "metadata": {},
   "outputs": [],
   "source": [
    "the_uses= {}\n",
    "for i in df.index:\n",
    "    a= str(df['WORDS'][i])[:-1]\n",
    "    b= \"the\"\n",
    "    if(a==b):\n",
    "        c=df['POS_TAGS'][i]\n",
    "        if(c in the_uses):\n",
    "            the_uses[c]+=1\n",
    "        else:\n",
    "            the_uses[c]=1\n",
    "\n",
    "for i in df2.index:\n",
    "    a= str(df2['WORDS'][i])[:-1]\n",
    "    b= \"the\"\n",
    "    if(a==b):\n",
    "        c=df2['POS_TAGS'][i]\n",
    "        if(c in the_uses):\n",
    "            the_uses[c]+=1\n",
    "        else:\n",
    "            the_uses[c]=1\n"
   ]
  },
  {
   "cell_type": "code",
   "execution_count": 51,
   "metadata": {},
   "outputs": [
    {
     "data": {
      "text/plain": [
       "list"
      ]
     },
     "execution_count": 51,
     "metadata": {},
     "output_type": "execute_result"
    }
   ],
   "source": [
    "type(the_uses)"
   ]
  },
  {
   "cell_type": "code",
   "execution_count": 67,
   "metadata": {},
   "outputs": [
    {
     "data": {
      "text/plain": [
       "['AT0', 'PNP', 'AV0', 'AJ0']"
      ]
     },
     "execution_count": 67,
     "metadata": {},
     "output_type": "execute_result"
    }
   ],
   "source": [
    "a=[]\n",
    "b=[]\n",
    "for i in range(len(top)):\n",
    "    a.append(the_uses[i][0])\n",
    "    b.append(the_uses[i][1])\n",
    "a"
   ]
  },
  {
   "cell_type": "code",
   "execution_count": 68,
   "metadata": {},
   "outputs": [
    {
     "data": {
      "text/plain": [
       "[737140, 8279, 2192, 5]"
      ]
     },
     "execution_count": 68,
     "metadata": {},
     "output_type": "execute_result"
    }
   ],
   "source": [
    "b"
   ]
  },
  {
   "cell_type": "code",
   "execution_count": 53,
   "metadata": {},
   "outputs": [],
   "source": [
    "import numpy as np\n",
    "import matplotlib.pyplot as plt"
   ]
  },
  {
   "cell_type": "code",
   "execution_count": 69,
   "metadata": {},
   "outputs": [
    {
     "data": {
      "text/plain": [
       "([<matplotlib.patches.Wedge at 0x1b12ca8e6c8>,\n",
       "  <matplotlib.patches.Wedge at 0x1b12ca8ea48>,\n",
       "  <matplotlib.patches.Wedge at 0x1b12ca98148>,\n",
       "  <matplotlib.patches.Wedge at 0x1b12ca981c8>],\n",
       " [Text(-1.0989343256481785, 0.0484081389043572, 'AT0'),\n",
       "  Text(1.0984405952274874, -0.05855133436808698, 'PNP'),\n",
       "  Text(1.099952910765972, -0.01017811856217889, 'AV0'),\n",
       "  Text(1.099999999760921, -2.293412143992823e-05, 'AJ0')])"
      ]
     },
     "execution_count": 69,
     "metadata": {},
     "output_type": "execute_result"
    },
    {
     "data": {
      "image/png": "[encoded data removed]",
      "text/plain": [
       "<Figure size 720x504 with 1 Axes>"
      ]
     },
     "metadata": {},
     "output_type": "display_data"
    }
   ],
   "source": [
    "fig= plt.figure(figsize= (10, 7))\n",
    "plt.pie(b, labels=a)"
   ]
  },
  {
   "cell_type": "code",
   "execution_count": 107,
   "metadata": {},
   "outputs": [
    {
     "data": {
      "image/png": "[encoded data removed]",
      "text/plain": [
       "<Figure size 1440x792 with 1 Axes>"
      ]
     },
     "metadata": {},
     "output_type": "display_data"
    }
   ],
   "source": [
    "def func(pct, allvalues): \n",
    "    absolute = int(pct / 100.*np.sum(allvalues)) \n",
    "    return \"{:.1f}%\\n({:d} g)\".format(pct, absolute)\n",
    "\n",
    "fig, ax = plt.subplots(figsize =(20,11)) \n",
    "wedges, texts, autotexts = ax.pie(b,  \n",
    "                                  autopct = lambda pct: func(pct, b), \n",
    "                                  labels = a, \n",
    "                                  textprops = dict(color =\"w\"))\n",
    "\n",
    "ax.legend(wedges, a, \n",
    "          title =\"WORD_TAG\", \n",
    "          loc =\"center left\", \n",
    "          bbox_to_anchor =(1, 0, 0.5, 1)) \n",
    "  \n",
    "plt.setp(autotexts, size = 8, weight =\"bold\") \n",
    "ax.set_title(\"Most frequently used words\")  \n",
    "plt.show() "
   ]
  },
  {
   "cell_type": "code",
   "execution_count": null,
   "metadata": {},
   "outputs": [],
   "source": []
  },
  {
   "cell_type": "code",
   "execution_count": null,
   "metadata": {},
   "outputs": [],
   "source": []
  },
  {
   "cell_type": "code",
   "execution_count": null,
   "metadata": {},
   "outputs": [],
   "source": []
  },
  {
   "cell_type": "code",
   "execution_count": null,
   "metadata": {},
   "outputs": [],
   "source": []
  }
 ],
 "metadata": {
  "kernelspec": {
   "display_name": "Python 3",
   "language": "python",
   "name": "python3"
  },
  "language_info": {
   "codemirror_mode": {
    "name": "ipython",
    "version": 3
   },
   "file_extension": ".py",
   "mimetype": "text/x-python",
   "name": "python",
   "nbconvert_exporter": "python",
   "pygments_lexer": "ipython3",
   "version": "3.6.4"
  }
 },
 "nbformat": 4,
 "nbformat_minor": 2
}
