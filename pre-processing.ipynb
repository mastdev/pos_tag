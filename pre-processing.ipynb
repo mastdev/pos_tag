{
 "cells": [
  {
   "cell_type": "code",
   "execution_count": 2,
   "metadata": {},
   "outputs": [],
   "source": [
    "import os\n",
    "import pandas as pd\n",
    "import xml.etree.ElementTree as ET"
   ]
  },
  {
   "cell_type": "code",
   "execution_count": 3,
   "metadata": {},
   "outputs": [],
   "source": [
    "train_dir='Assignment-files/Train-corpus'\n",
    "\n",
    "words=[]\n",
    "tags=[]\n",
    "\n",
    "for _dir, subdir, files in os.walk(train_dir):\n",
    "    for files in files:\n",
    "        tree=ET.parse(os.path.join(os.path.abspath(_dir),files))\n",
    "        root=tree.getroot()\n",
    "        for ele in root.findall('.//'):\n",
    "            if(ele.tag=='w' or ele.tag=='c'):\n",
    "                words.append(ele.text)\n",
    "                tags.append(ele.attrib['c5'])\n",
    "                        \n",
    "data={'WORDS': words, 'POS_TAGS': tags}\n",
    "pd.DataFrame(data).to_csv('train words_pos_tag pair.csv', index=False)"
   ]
  },
  {
   "cell_type": "code",
   "execution_count": 19,
   "metadata": {},
   "outputs": [],
   "source": [
    "test_dir='Assignment-files/Test-corpus'\n",
    "\n",
    "test_words=[]\n",
    "test_tags=[]\n",
    "\n",
    "for _dir, subdir, files in os.walk(test_dir):\n",
    "    for files in files:\n",
    "        tree=ET.parse(os.path.join(os.path.abspath(_dir),files))\n",
    "        root=tree.getroot()\n",
    "        for ele in root.findall('.//'):\n",
    "            if(ele.tag=='w' or ele.tag=='c'):\n",
    "                test_words.append(ele.text)\n",
    "                test_tags.append(ele.attrib['c5'])\n",
    "                        \n",
    "test_data={'WORDS': test_words, 'POS_TAGS': test_tags}\n",
    "pd.DataFrame(test_data).to_csv('test words_pos_tag pair.csv', index=False)"
   ]
  },
  {
   "cell_type": "code",
   "execution_count": null,
   "metadata": {},
   "outputs": [],
   "source": []
  },
  {
   "cell_type": "code",
   "execution_count": null,
   "metadata": {},
   "outputs": [],
   "source": []
  },
  {
   "cell_type": "code",
   "execution_count": null,
   "metadata": {},
   "outputs": [],
   "source": []
  }
 ],
 "metadata": {
  "kernelspec": {
   "display_name": "Python 3",
   "language": "python",
   "name": "python3"
  },
  "language_info": {
   "codemirror_mode": {
    "name": "ipython",
    "version": 3
   },
   "file_extension": ".py",
   "mimetype": "text/x-python",
   "name": "python",
   "nbconvert_exporter": "python",
   "pygments_lexer": "ipython3",
   "version": "3.7.4"
  }
 },
 "nbformat": 4,
 "nbformat_minor": 2
}
